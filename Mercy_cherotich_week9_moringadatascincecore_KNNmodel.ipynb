{
  "nbformat": 4,
  "nbformat_minor": 0,
  "metadata": {
    "colab": {
      "name": "Mercy_cherotich_week9_moringadatascincecore_KNNmodel",
      "provenance": [],
      "collapsed_sections": [
        "kLG2VTrnTvYL",
        "XecOwPNorl2W",
        "J4wfHZwQrs-t",
        "a9BPYqunry97",
        "7KMRBJ7zr9HD",
        "zSGyg6kWsBUl",
        "iUNbvIvnT7ep",
        "OI3P3YnHUEBk",
        "ckfufNrcUHeH",
        "6XC_g-zKxe-r",
        "FlBMxEDBUc9B",
        "rF2ABPsHUtbZ",
        "vTbdjSrhVIiT",
        "lQ2G4ZPDVOXE",
        "xrmHVMVsVS--",
        "HPQviDmNtta8",
        "qjFHK1CKty7o",
        "HSsicSdvt4Zs"
      ],
      "toc_visible": true,
      "include_colab_link": true
    },
    "kernelspec": {
      "name": "python3",
      "display_name": "Python 3"
    }
  },
  "cells": [
    {
      "cell_type": "markdown",
      "metadata": {
        "id": "view-in-github",
        "colab_type": "text"
      },
      "source": [
        "<a href=\"https://colab.research.google.com/github/Cherow/Mercy-_Cherotich-_week9_moringaschool_datasciencecore_ip/blob/main/Mercy_cherotich_week9_moringadatascincecore_KNNmodel.ipynb\" target=\"_parent\"><img src=\"https://colab.research.google.com/assets/colab-badge.svg\" alt=\"Open In Colab\"/></a>"
      ]
    },
    {
      "cell_type": "markdown",
      "metadata": {
        "id": "1qqgL4FTCh_2"
      },
      "source": [
        "<font color=\"green\">*To start working on this notebook, or any other notebook that we will use in the Moringa Data Science Course, we will need to save our own copy of it. We can do this by clicking File > Save a Copy in Drive. We will then be able to make edits to our own copy of this notebook.*</font>"
      ]
    },
    {
      "cell_type": "markdown",
      "metadata": {
        "id": "xMxtPsqcTsSH"
      },
      "source": [
        "## Week 9:KNN model"
      ]
    },
    {
      "cell_type": "markdown",
      "metadata": {
        "id": "kLG2VTrnTvYL"
      },
      "source": [
        "## 1. Defining the Question"
      ]
    },
    {
      "cell_type": "markdown",
      "metadata": {
        "id": "XecOwPNorl2W"
      },
      "source": [
        "### a) Specifying the Data Analytic Question"
      ]
    },
    {
      "cell_type": "markdown",
      "metadata": {
        "id": "9ozBnKfehSAw"
      },
      "source": [
        "> Predicting the survival rate of the victims in the titanic given various factors eg age,sex and etc"
      ]
    },
    {
      "cell_type": "markdown",
      "metadata": {
        "id": "J4wfHZwQrs-t"
      },
      "source": [
        "### b) Defining the Metric for Success"
      ]
    },
    {
      "cell_type": "markdown",
      "source": [
        "our metrics of success is accuracy score and it should be between 60 and 95 since below 60 is underfitting and above 95 is overfitting"
      ],
      "metadata": {
        "id": "fVH0j10arMEW"
      }
    },
    {
      "cell_type": "markdown",
      "metadata": {
        "id": "a9BPYqunry97"
      },
      "source": [
        "### c) Understanding the context "
      ]
    },
    {
      "cell_type": "markdown",
      "source": [
        "The Titanic was a luxury British steamship that sank in the early hours of April 15, 1912 after striking an iceberg, leading to the deaths of more than 1,500 passengers and crew out of 2240 people in the ship.There were attempts to as many people as possible but due to many drawbacks such as people being reluctant to join the lifeboat thinking they were safe in the ship yet it was sinking,the limited number of lifeboats and some lifeboats carrying less than the required number thus many people died.we are attempting to see the factors that increased the survival rate of a person in the ship during the accident\n"
      ],
      "metadata": {
        "id": "mizOrf2EreZs"
      }
    },
    {
      "cell_type": "markdown",
      "metadata": {
        "id": "7KMRBJ7zr9HD"
      },
      "source": [
        "### d) Recording the Experimental Design"
      ]
    },
    {
      "cell_type": "markdown",
      "source": [
        ".import libraries"
      ],
      "metadata": {
        "id": "_unPMepttgBS"
      }
    },
    {
      "cell_type": "markdown",
      "source": [
        ".load datasets"
      ],
      "metadata": {
        "id": "C4QMxmIMttxK"
      }
    },
    {
      "cell_type": "markdown",
      "source": [
        ".data cleaning and preparation\n"
      ],
      "metadata": {
        "id": "iZBkqAlLtwi2"
      }
    },
    {
      "cell_type": "markdown",
      "source": [
        ".building KNN model \n"
      ],
      "metadata": {
        "id": "Zw6WrJxCt2kE"
      }
    },
    {
      "cell_type": "markdown",
      "source": [
        ".follow-up questins"
      ],
      "metadata": {
        "id": "CYBamUNbt7Za"
      }
    },
    {
      "cell_type": "markdown",
      "source": [
        ".recommendations"
      ],
      "metadata": {
        "id": "IBZ26GGJuD0M"
      }
    },
    {
      "cell_type": "markdown",
      "source": [
        ".conclusion"
      ],
      "metadata": {
        "id": "l5WWa5B0uGLg"
      }
    },
    {
      "cell_type": "markdown",
      "metadata": {
        "id": "zSGyg6kWsBUl"
      },
      "source": [
        "# e) Data Relevance"
      ]
    },
    {
      "cell_type": "markdown",
      "source": [
        "\n",
        "We are using titanic  dataset (/content/test (1).csv) for this project. The dataset contains columns such as age,sex,passengerid,parentchildren,siblingspouse,the classes in the ship etc which are relevant to this study. The size and the number features present our dataset also makes our dataset sufficient in building models that determines whether or not a passenger survived during the accident"
      ],
      "metadata": {
        "id": "3B4bt42GuNFM"
      }
    },
    {
      "cell_type": "markdown",
      "source": [
        ""
      ],
      "metadata": {
        "id": "ES5eeMHGuJ1N"
      }
    },
    {
      "cell_type": "markdown",
      "metadata": {
        "id": "iUNbvIvnT7ep"
      },
      "source": [
        "## 2. Reading the Data"
      ]
    },
    {
      "cell_type": "code",
      "source": [
        "#importing the libraries\n",
        "import pandas as pd\n",
        "import numpy as np\n",
        "import matplotlib.pyplot as plt\n",
        "import seaborn as sns\n",
        "import warnings\n",
        "warnings.filterwarnings('ignore')\n",
        "from sklearn.preprocessing import LabelEncoder\n",
        "from sklearn.neighbors import KNeighborsClassifier\n",
        "from sklearn.model_selection import train_test_split\n",
        "from sklearn import metrics\n",
        "from sklearn.preprocessing import StandardScaler\n",
        "from sklearn.model_selection import GridSearchCV"
      ],
      "metadata": {
        "id": "T1UnBS_YDvZJ"
      },
      "execution_count": 483,
      "outputs": []
    },
    {
      "cell_type": "code",
      "metadata": {
        "id": "XJn2KjW-WMlG"
      },
      "source": [
        "# Loading the Data from the source i.e. csv\n",
        "# ---\n",
        "test = pd.read_csv('/content/test (1).csv')\n",
        "df = pd.read_csv('/content/train (5).csv')"
      ],
      "execution_count": 484,
      "outputs": []
    },
    {
      "cell_type": "markdown",
      "metadata": {
        "id": "OI3P3YnHUEBk"
      },
      "source": [
        "\n",
        "\n",
        "## 3. Checking the Data"
      ]
    },
    {
      "cell_type": "code",
      "metadata": {
        "id": "YjSVNwgptHxY",
        "outputId": "9657a944-216e-4cdd-d973-1bfb5dde84db",
        "colab": {
          "base_uri": "https://localhost:8080/"
        }
      },
      "source": [
        "# Determining the no. of records in our dataset\n",
        "#\n",
        "df.shape"
      ],
      "execution_count": 485,
      "outputs": [
        {
          "output_type": "execute_result",
          "data": {
            "text/plain": [
              "(891, 12)"
            ]
          },
          "metadata": {},
          "execution_count": 485
        }
      ]
    },
    {
      "cell_type": "markdown",
      "source": [
        "our data has 891 records and 12 columns"
      ],
      "metadata": {
        "id": "fWFbuS-IE9Tg"
      }
    },
    {
      "cell_type": "code",
      "metadata": {
        "id": "xHhTw5eKWr0n",
        "outputId": "c4a6b3b4-e81e-420d-a369-9309a591feb7",
        "colab": {
          "base_uri": "https://localhost:8080/",
          "height": 276
        }
      },
      "source": [
        "# Previewing the top of our dataset\n",
        "#\n",
        "df.head()"
      ],
      "execution_count": 486,
      "outputs": [
        {
          "output_type": "execute_result",
          "data": {
            "text/html": [
              "<div>\n",
              "<style scoped>\n",
              "    .dataframe tbody tr th:only-of-type {\n",
              "        vertical-align: middle;\n",
              "    }\n",
              "\n",
              "    .dataframe tbody tr th {\n",
              "        vertical-align: top;\n",
              "    }\n",
              "\n",
              "    .dataframe thead th {\n",
              "        text-align: right;\n",
              "    }\n",
              "</style>\n",
              "<table border=\"1\" class=\"dataframe\">\n",
              "  <thead>\n",
              "    <tr style=\"text-align: right;\">\n",
              "      <th></th>\n",
              "      <th>PassengerId</th>\n",
              "      <th>Survived</th>\n",
              "      <th>Pclass</th>\n",
              "      <th>Name</th>\n",
              "      <th>Sex</th>\n",
              "      <th>Age</th>\n",
              "      <th>SibSp</th>\n",
              "      <th>Parch</th>\n",
              "      <th>Ticket</th>\n",
              "      <th>Fare</th>\n",
              "      <th>Cabin</th>\n",
              "      <th>Embarked</th>\n",
              "    </tr>\n",
              "  </thead>\n",
              "  <tbody>\n",
              "    <tr>\n",
              "      <th>0</th>\n",
              "      <td>1</td>\n",
              "      <td>0</td>\n",
              "      <td>3</td>\n",
              "      <td>Braund, Mr. Owen Harris</td>\n",
              "      <td>male</td>\n",
              "      <td>22.0</td>\n",
              "      <td>1</td>\n",
              "      <td>0</td>\n",
              "      <td>A/5 21171</td>\n",
              "      <td>7.2500</td>\n",
              "      <td>NaN</td>\n",
              "      <td>S</td>\n",
              "    </tr>\n",
              "    <tr>\n",
              "      <th>1</th>\n",
              "      <td>2</td>\n",
              "      <td>1</td>\n",
              "      <td>1</td>\n",
              "      <td>Cumings, Mrs. John Bradley (Florence Briggs Th...</td>\n",
              "      <td>female</td>\n",
              "      <td>38.0</td>\n",
              "      <td>1</td>\n",
              "      <td>0</td>\n",
              "      <td>PC 17599</td>\n",
              "      <td>71.2833</td>\n",
              "      <td>C85</td>\n",
              "      <td>C</td>\n",
              "    </tr>\n",
              "    <tr>\n",
              "      <th>2</th>\n",
              "      <td>3</td>\n",
              "      <td>1</td>\n",
              "      <td>3</td>\n",
              "      <td>Heikkinen, Miss. Laina</td>\n",
              "      <td>female</td>\n",
              "      <td>26.0</td>\n",
              "      <td>0</td>\n",
              "      <td>0</td>\n",
              "      <td>STON/O2. 3101282</td>\n",
              "      <td>7.9250</td>\n",
              "      <td>NaN</td>\n",
              "      <td>S</td>\n",
              "    </tr>\n",
              "    <tr>\n",
              "      <th>3</th>\n",
              "      <td>4</td>\n",
              "      <td>1</td>\n",
              "      <td>1</td>\n",
              "      <td>Futrelle, Mrs. Jacques Heath (Lily May Peel)</td>\n",
              "      <td>female</td>\n",
              "      <td>35.0</td>\n",
              "      <td>1</td>\n",
              "      <td>0</td>\n",
              "      <td>113803</td>\n",
              "      <td>53.1000</td>\n",
              "      <td>C123</td>\n",
              "      <td>S</td>\n",
              "    </tr>\n",
              "    <tr>\n",
              "      <th>4</th>\n",
              "      <td>5</td>\n",
              "      <td>0</td>\n",
              "      <td>3</td>\n",
              "      <td>Allen, Mr. William Henry</td>\n",
              "      <td>male</td>\n",
              "      <td>35.0</td>\n",
              "      <td>0</td>\n",
              "      <td>0</td>\n",
              "      <td>373450</td>\n",
              "      <td>8.0500</td>\n",
              "      <td>NaN</td>\n",
              "      <td>S</td>\n",
              "    </tr>\n",
              "  </tbody>\n",
              "</table>\n",
              "</div>"
            ],
            "text/plain": [
              "   PassengerId  Survived  Pclass  ...     Fare Cabin  Embarked\n",
              "0            1         0       3  ...   7.2500   NaN         S\n",
              "1            2         1       1  ...  71.2833   C85         C\n",
              "2            3         1       3  ...   7.9250   NaN         S\n",
              "3            4         1       1  ...  53.1000  C123         S\n",
              "4            5         0       3  ...   8.0500   NaN         S\n",
              "\n",
              "[5 rows x 12 columns]"
            ]
          },
          "metadata": {},
          "execution_count": 486
        }
      ]
    },
    {
      "cell_type": "code",
      "metadata": {
        "id": "e9AzGcZFrIIr",
        "outputId": "0d72cb02-90c2-4bc6-ffbd-f9667ab10cee",
        "colab": {
          "base_uri": "https://localhost:8080/",
          "height": 224
        }
      },
      "source": [
        "# Previewing the bottom of our dataset\n",
        "# \n",
        "df.tail()"
      ],
      "execution_count": 487,
      "outputs": [
        {
          "output_type": "execute_result",
          "data": {
            "text/html": [
              "<div>\n",
              "<style scoped>\n",
              "    .dataframe tbody tr th:only-of-type {\n",
              "        vertical-align: middle;\n",
              "    }\n",
              "\n",
              "    .dataframe tbody tr th {\n",
              "        vertical-align: top;\n",
              "    }\n",
              "\n",
              "    .dataframe thead th {\n",
              "        text-align: right;\n",
              "    }\n",
              "</style>\n",
              "<table border=\"1\" class=\"dataframe\">\n",
              "  <thead>\n",
              "    <tr style=\"text-align: right;\">\n",
              "      <th></th>\n",
              "      <th>PassengerId</th>\n",
              "      <th>Survived</th>\n",
              "      <th>Pclass</th>\n",
              "      <th>Name</th>\n",
              "      <th>Sex</th>\n",
              "      <th>Age</th>\n",
              "      <th>SibSp</th>\n",
              "      <th>Parch</th>\n",
              "      <th>Ticket</th>\n",
              "      <th>Fare</th>\n",
              "      <th>Cabin</th>\n",
              "      <th>Embarked</th>\n",
              "    </tr>\n",
              "  </thead>\n",
              "  <tbody>\n",
              "    <tr>\n",
              "      <th>886</th>\n",
              "      <td>887</td>\n",
              "      <td>0</td>\n",
              "      <td>2</td>\n",
              "      <td>Montvila, Rev. Juozas</td>\n",
              "      <td>male</td>\n",
              "      <td>27.0</td>\n",
              "      <td>0</td>\n",
              "      <td>0</td>\n",
              "      <td>211536</td>\n",
              "      <td>13.00</td>\n",
              "      <td>NaN</td>\n",
              "      <td>S</td>\n",
              "    </tr>\n",
              "    <tr>\n",
              "      <th>887</th>\n",
              "      <td>888</td>\n",
              "      <td>1</td>\n",
              "      <td>1</td>\n",
              "      <td>Graham, Miss. Margaret Edith</td>\n",
              "      <td>female</td>\n",
              "      <td>19.0</td>\n",
              "      <td>0</td>\n",
              "      <td>0</td>\n",
              "      <td>112053</td>\n",
              "      <td>30.00</td>\n",
              "      <td>B42</td>\n",
              "      <td>S</td>\n",
              "    </tr>\n",
              "    <tr>\n",
              "      <th>888</th>\n",
              "      <td>889</td>\n",
              "      <td>0</td>\n",
              "      <td>3</td>\n",
              "      <td>Johnston, Miss. Catherine Helen \"Carrie\"</td>\n",
              "      <td>female</td>\n",
              "      <td>NaN</td>\n",
              "      <td>1</td>\n",
              "      <td>2</td>\n",
              "      <td>W./C. 6607</td>\n",
              "      <td>23.45</td>\n",
              "      <td>NaN</td>\n",
              "      <td>S</td>\n",
              "    </tr>\n",
              "    <tr>\n",
              "      <th>889</th>\n",
              "      <td>890</td>\n",
              "      <td>1</td>\n",
              "      <td>1</td>\n",
              "      <td>Behr, Mr. Karl Howell</td>\n",
              "      <td>male</td>\n",
              "      <td>26.0</td>\n",
              "      <td>0</td>\n",
              "      <td>0</td>\n",
              "      <td>111369</td>\n",
              "      <td>30.00</td>\n",
              "      <td>C148</td>\n",
              "      <td>C</td>\n",
              "    </tr>\n",
              "    <tr>\n",
              "      <th>890</th>\n",
              "      <td>891</td>\n",
              "      <td>0</td>\n",
              "      <td>3</td>\n",
              "      <td>Dooley, Mr. Patrick</td>\n",
              "      <td>male</td>\n",
              "      <td>32.0</td>\n",
              "      <td>0</td>\n",
              "      <td>0</td>\n",
              "      <td>370376</td>\n",
              "      <td>7.75</td>\n",
              "      <td>NaN</td>\n",
              "      <td>Q</td>\n",
              "    </tr>\n",
              "  </tbody>\n",
              "</table>\n",
              "</div>"
            ],
            "text/plain": [
              "     PassengerId  Survived  Pclass  ...   Fare Cabin  Embarked\n",
              "886          887         0       2  ...  13.00   NaN         S\n",
              "887          888         1       1  ...  30.00   B42         S\n",
              "888          889         0       3  ...  23.45   NaN         S\n",
              "889          890         1       1  ...  30.00  C148         C\n",
              "890          891         0       3  ...   7.75   NaN         Q\n",
              "\n",
              "[5 rows x 12 columns]"
            ]
          },
          "metadata": {},
          "execution_count": 487
        }
      ]
    },
    {
      "cell_type": "code",
      "metadata": {
        "id": "n8-dW4sQWzbc",
        "outputId": "c1861152-c807-4484-e990-e16e14a0ba51",
        "colab": {
          "base_uri": "https://localhost:8080/"
        }
      },
      "source": [
        "# Checking whether each column has an appropriate datatype\n",
        "#\n",
        "df.info()"
      ],
      "execution_count": 488,
      "outputs": [
        {
          "output_type": "stream",
          "name": "stdout",
          "text": [
            "<class 'pandas.core.frame.DataFrame'>\n",
            "RangeIndex: 891 entries, 0 to 890\n",
            "Data columns (total 12 columns):\n",
            " #   Column       Non-Null Count  Dtype  \n",
            "---  ------       --------------  -----  \n",
            " 0   PassengerId  891 non-null    int64  \n",
            " 1   Survived     891 non-null    int64  \n",
            " 2   Pclass       891 non-null    int64  \n",
            " 3   Name         891 non-null    object \n",
            " 4   Sex          891 non-null    object \n",
            " 5   Age          714 non-null    float64\n",
            " 6   SibSp        891 non-null    int64  \n",
            " 7   Parch        891 non-null    int64  \n",
            " 8   Ticket       891 non-null    object \n",
            " 9   Fare         891 non-null    float64\n",
            " 10  Cabin        204 non-null    object \n",
            " 11  Embarked     889 non-null    object \n",
            "dtypes: float64(2), int64(5), object(5)\n",
            "memory usage: 83.7+ KB\n"
          ]
        }
      ]
    },
    {
      "cell_type": "code",
      "source": [
        "#checking for unique values in the columns\n",
        "df.nunique()"
      ],
      "metadata": {
        "colab": {
          "base_uri": "https://localhost:8080/"
        },
        "id": "xz9isoJHcgek",
        "outputId": "03030c5f-2264-46c5-e3a6-1f1a6791f3bb"
      },
      "execution_count": 489,
      "outputs": [
        {
          "output_type": "execute_result",
          "data": {
            "text/plain": [
              "PassengerId    891\n",
              "Survived         2\n",
              "Pclass           3\n",
              "Name           891\n",
              "Sex              2\n",
              "Age             88\n",
              "SibSp            7\n",
              "Parch            7\n",
              "Ticket         681\n",
              "Fare           248\n",
              "Cabin          147\n",
              "Embarked         3\n",
              "dtype: int64"
            ]
          },
          "metadata": {},
          "execution_count": 489
        }
      ]
    },
    {
      "cell_type": "markdown",
      "source": [
        "our data has different type of data including float,interger and object.The object type had categorical data"
      ],
      "metadata": {
        "id": "5otxpxzhFeJx"
      }
    },
    {
      "cell_type": "markdown",
      "metadata": {
        "id": "FlBMxEDBUc9B"
      },
      "source": [
        "## 4. Tidying the Dataset"
      ]
    },
    {
      "cell_type": "code",
      "metadata": {
        "id": "5o_bQcT5W3Wz"
      },
      "source": [
        "# Checking for Outliers\n"
      ],
      "execution_count": 490,
      "outputs": []
    },
    {
      "cell_type": "markdown",
      "source": [
        "age and fare"
      ],
      "metadata": {
        "id": "V7ilmCtiJsXc"
      }
    },
    {
      "cell_type": "code",
      "source": [
        "#checking outliers in age and fare column\n",
        "fig,(ax1,ax2) = plt.subplots(2,1,figsize = (10,10))\n",
        "sns.boxplot(df['Age'],ax=ax1)\n",
        "sns.boxplot(df['Fare'],ax = ax2)\n",
        "plt.suptitle('histplots ')"
      ],
      "metadata": {
        "colab": {
          "base_uri": "https://localhost:8080/",
          "height": 700
        },
        "id": "fVXipGwNJxps",
        "outputId": "59946e64-591c-452e-be09-fd85f790eaea"
      },
      "execution_count": 491,
      "outputs": [
        {
          "output_type": "execute_result",
          "data": {
            "text/plain": [
              "Text(0.5, 0.98, 'histplots ')"
            ]
          },
          "metadata": {},
          "execution_count": 491
        },
        {
          "output_type": "display_data",
          "data": {
            "image/png": "[encoded data removed]",
            "text/plain": [
              "<Figure size 720x720 with 2 Axes>"
            ]
          },
          "metadata": {}
        }
      ]
    },
    {
      "cell_type": "markdown",
      "source": [
        "the age has outliers and this could be because there were old people who were in the ship.the fare also had outliers because of the differences in the amounts paid by the people since the people in first class paid alot than those in other classes so we wont remove the outliers"
      ],
      "metadata": {
        "id": "IN1xUxpbR9UN"
      }
    },
    {
      "cell_type": "markdown",
      "source": [
        "parch and sibsp"
      ],
      "metadata": {
        "id": "rrRptXJYPYLJ"
      }
    },
    {
      "cell_type": "code",
      "source": [
        "#checking outliers in the parch and sibsp columns\n",
        "fig,(ax1,ax2) = plt.subplots(2,1,figsize = (10,10))\n",
        "sns.boxplot(df['Parch'],ax=ax1)\n",
        "sns.boxplot(df['SibSp'],ax = ax2)\n",
        "plt.suptitle('histplots ')"
      ],
      "metadata": {
        "colab": {
          "base_uri": "https://localhost:8080/",
          "height": 700
        },
        "id": "KjAi5mvHP5iD",
        "outputId": "91907376-445a-4055-a1b9-e053aeff53af"
      },
      "execution_count": 492,
      "outputs": [
        {
          "output_type": "execute_result",
          "data": {
            "text/plain": [
              "Text(0.5, 0.98, 'histplots ')"
            ]
          },
          "metadata": {},
          "execution_count": 492
        },
        {
          "output_type": "display_data",
          "data": {
            "image/png": "[encoded data removed]",
            "text/plain": [
              "<Figure size 720x720 with 2 Axes>"
            ]
          },
          "metadata": {}
        }
      ]
    },
    {
      "cell_type": "markdown",
      "source": [
        "the siblings and spouses column that is sibsp had ouliers though this could be as a results of some families being large thus the outliers.the parent and children column column that is the parch had outliers and that is accounted by some families being large."
      ],
      "metadata": {
        "id": "6MCaPAsrK_Ds"
      }
    },
    {
      "cell_type": "code",
      "metadata": {
        "id": "PvCYb6dgW4yh",
        "colab": {
          "base_uri": "https://localhost:8080/"
        },
        "outputId": "d994be63-f47f-4a88-e866-5fa8d9356fe3"
      },
      "source": [
        "# Identifying the Missing Data\n",
        "#\n",
        "df.isnull().sum()"
      ],
      "execution_count": 494,
      "outputs": [
        {
          "output_type": "execute_result",
          "data": {
            "text/plain": [
              "PassengerId      0\n",
              "Survived         0\n",
              "Pclass           0\n",
              "Name             0\n",
              "Sex              0\n",
              "Age            177\n",
              "SibSp            0\n",
              "Parch            0\n",
              "Ticket           0\n",
              "Fare             0\n",
              "Cabin          687\n",
              "Embarked         2\n",
              "dtype: int64"
            ]
          },
          "metadata": {},
          "execution_count": 494
        }
      ]
    },
    {
      "cell_type": "markdown",
      "source": [
        "age,cabin and embarked columns contained missing values.\n",
        "the age column had 177 missing values and we wont drop since age is an important factor in determining the survival .tha cabin has 687 missing values which is 77% of the total hence we will drop the column.embarked has only 2 so we will drop it"
      ],
      "metadata": {
        "id": "yKM-p4kuYUwL"
      }
    },
    {
      "cell_type": "code",
      "source": [
        ""
      ],
      "metadata": {
        "id": "xkkdPzxteabh"
      },
      "execution_count": 494,
      "outputs": []
    },
    {
      "cell_type": "code",
      "metadata": {
        "id": "MpsDGKZHsf_W"
      },
      "source": [
        "# Dealing with the Missing Data\n",
        "#the missing values in the age column will be replaced by the mean of age\n",
        "#we will replace the age according with the class\n",
        "first_class = df[df['Pclass']==1]\n",
        "first_class\n",
        "#computing the mean age in the class\n",
        "first_class['Age'].mean()\n",
        "#filling in missing values with mean\n",
        "first_class['Age'].fillna(first_class['Age'].mean(),inplace = True)\n",
        "#the second class passangers\n",
        "second_class = df[df['Pclass']==2]\n",
        "second_class\n",
        "#computing the mean age in the class\n",
        "second_class['Age'].mean()\n",
        "#filling in missing values with mean\n",
        "second_class['Age'].fillna(second_class['Age'].mean(),inplace = True)\n",
        "#third class passangers\n",
        "third_class = df[df['Pclass']==3]\n",
        "third_class\n",
        "#computing the mean age in the class\n",
        "third_class['Age'].mean()\n",
        "#filling in missing values with mean\n",
        "third_class['Age'].fillna(third_class['Age'].mean(),inplace = True)\n"
      ],
      "execution_count": 495,
      "outputs": []
    },
    {
      "cell_type": "code",
      "source": [
        "#we concanate the data to combine the class\n",
        "titanic_df = pd.concat([first_class,second_class,third_class],axis = 0)\n",
        "titanic_df.isnull().sum()"
      ],
      "metadata": {
        "colab": {
          "base_uri": "https://localhost:8080/"
        },
        "id": "54gc5s3Cf3dr",
        "outputId": "205b0c52-8c92-44e5-cbe8-28b798b5695e"
      },
      "execution_count": 496,
      "outputs": [
        {
          "output_type": "execute_result",
          "data": {
            "text/plain": [
              "PassengerId      0\n",
              "Survived         0\n",
              "Pclass           0\n",
              "Name             0\n",
              "Sex              0\n",
              "Age              0\n",
              "SibSp            0\n",
              "Parch            0\n",
              "Ticket           0\n",
              "Fare             0\n",
              "Cabin          687\n",
              "Embarked         2\n",
              "dtype: int64"
            ]
          },
          "metadata": {},
          "execution_count": 496
        }
      ]
    },
    {
      "cell_type": "markdown",
      "source": [
        "we divide the data into various classes and filled in the missing age with it's respective class mean since there were age difference according to classes and age was vital in determing the survival hence could not br dropped"
      ],
      "metadata": {
        "id": "nVlE3BrFvcI7"
      }
    },
    {
      "cell_type": "code",
      "source": [
        "#there are some columns we wont need so we drop them\n",
        "#this include id,name,cabin and ticket\n",
        "titanic_df.drop(['Cabin','PassengerId','Ticket','Name'],inplace=True,axis = 1)"
      ],
      "metadata": {
        "id": "WYrIVoxn0TU-"
      },
      "execution_count": 497,
      "outputs": []
    },
    {
      "cell_type": "code",
      "source": [
        "\n",
        "#we drop the two missing value in embarked\n",
        "#titanic_df.drop(['Embarked'],inplace=True,axis =1)\n",
        "titanic_df.dropna(inplace=True)\n",
        "titanic_df.isnull().sum()"
      ],
      "metadata": {
        "colab": {
          "base_uri": "https://localhost:8080/"
        },
        "id": "J-Tw39nq4owq",
        "outputId": "dbbed729-8b7f-491d-87bd-5ce3b332c199"
      },
      "execution_count": 498,
      "outputs": [
        {
          "output_type": "execute_result",
          "data": {
            "text/plain": [
              "Survived    0\n",
              "Pclass      0\n",
              "Sex         0\n",
              "Age         0\n",
              "SibSp       0\n",
              "Parch       0\n",
              "Fare        0\n",
              "Embarked    0\n",
              "dtype: int64"
            ]
          },
          "metadata": {},
          "execution_count": 498
        }
      ]
    },
    {
      "cell_type": "markdown",
      "source": [
        "we drop the columns since they donot influence the survival of a person "
      ],
      "metadata": {
        "id": "8hOVwrXC4t4_"
      }
    },
    {
      "cell_type": "code",
      "source": [
        "#checking for duplicates\n",
        "titanic_df.duplicated().sum()\n",
        "#checking the duplitates in our data\n",
        "duplicates = titanic_df[titanic_df.duplicated()]\n",
        "duplicates\n",
        "#checking the duplicates alongside unique column Names there is no need to drop since the records are same but belong \n",
        "#to different people\n"
      ],
      "metadata": {
        "colab": {
          "base_uri": "https://localhost:8080/",
          "height": 424
        },
        "id": "HLpXO7Z75IM3",
        "outputId": "7751aa61-1ba7-419d-a1bb-761b7d9495bb"
      },
      "execution_count": 499,
      "outputs": [
        {
          "output_type": "execute_result",
          "data": {
            "text/html": [
              "<div>\n",
              "<style scoped>\n",
              "    .dataframe tbody tr th:only-of-type {\n",
              "        vertical-align: middle;\n",
              "    }\n",
              "\n",
              "    .dataframe tbody tr th {\n",
              "        vertical-align: top;\n",
              "    }\n",
              "\n",
              "    .dataframe thead th {\n",
              "        text-align: right;\n",
              "    }\n",
              "</style>\n",
              "<table border=\"1\" class=\"dataframe\">\n",
              "  <thead>\n",
              "    <tr style=\"text-align: right;\">\n",
              "      <th></th>\n",
              "      <th>Survived</th>\n",
              "      <th>Pclass</th>\n",
              "      <th>Sex</th>\n",
              "      <th>Age</th>\n",
              "      <th>SibSp</th>\n",
              "      <th>Parch</th>\n",
              "      <th>Fare</th>\n",
              "      <th>Embarked</th>\n",
              "    </tr>\n",
              "  </thead>\n",
              "  <tbody>\n",
              "    <tr>\n",
              "      <th>295</th>\n",
              "      <td>0</td>\n",
              "      <td>1</td>\n",
              "      <td>male</td>\n",
              "      <td>38.233441</td>\n",
              "      <td>0</td>\n",
              "      <td>0</td>\n",
              "      <td>27.7208</td>\n",
              "      <td>C</td>\n",
              "    </tr>\n",
              "    <tr>\n",
              "      <th>555</th>\n",
              "      <td>0</td>\n",
              "      <td>1</td>\n",
              "      <td>male</td>\n",
              "      <td>62.000000</td>\n",
              "      <td>0</td>\n",
              "      <td>0</td>\n",
              "      <td>26.5500</td>\n",
              "      <td>S</td>\n",
              "    </tr>\n",
              "    <tr>\n",
              "      <th>641</th>\n",
              "      <td>1</td>\n",
              "      <td>1</td>\n",
              "      <td>female</td>\n",
              "      <td>24.000000</td>\n",
              "      <td>0</td>\n",
              "      <td>0</td>\n",
              "      <td>69.3000</td>\n",
              "      <td>C</td>\n",
              "    </tr>\n",
              "    <tr>\n",
              "      <th>815</th>\n",
              "      <td>0</td>\n",
              "      <td>1</td>\n",
              "      <td>male</td>\n",
              "      <td>38.233441</td>\n",
              "      <td>0</td>\n",
              "      <td>0</td>\n",
              "      <td>0.0000</td>\n",
              "      <td>S</td>\n",
              "    </tr>\n",
              "    <tr>\n",
              "      <th>133</th>\n",
              "      <td>1</td>\n",
              "      <td>2</td>\n",
              "      <td>female</td>\n",
              "      <td>29.000000</td>\n",
              "      <td>1</td>\n",
              "      <td>0</td>\n",
              "      <td>26.0000</td>\n",
              "      <td>S</td>\n",
              "    </tr>\n",
              "    <tr>\n",
              "      <th>...</th>\n",
              "      <td>...</td>\n",
              "      <td>...</td>\n",
              "      <td>...</td>\n",
              "      <td>...</td>\n",
              "      <td>...</td>\n",
              "      <td>...</td>\n",
              "      <td>...</td>\n",
              "      <td>...</td>\n",
              "    </tr>\n",
              "    <tr>\n",
              "      <th>863</th>\n",
              "      <td>0</td>\n",
              "      <td>3</td>\n",
              "      <td>female</td>\n",
              "      <td>25.140620</td>\n",
              "      <td>8</td>\n",
              "      <td>2</td>\n",
              "      <td>69.5500</td>\n",
              "      <td>S</td>\n",
              "    </tr>\n",
              "    <tr>\n",
              "      <th>870</th>\n",
              "      <td>0</td>\n",
              "      <td>3</td>\n",
              "      <td>male</td>\n",
              "      <td>26.000000</td>\n",
              "      <td>0</td>\n",
              "      <td>0</td>\n",
              "      <td>7.8958</td>\n",
              "      <td>S</td>\n",
              "    </tr>\n",
              "    <tr>\n",
              "      <th>877</th>\n",
              "      <td>0</td>\n",
              "      <td>3</td>\n",
              "      <td>male</td>\n",
              "      <td>19.000000</td>\n",
              "      <td>0</td>\n",
              "      <td>0</td>\n",
              "      <td>7.8958</td>\n",
              "      <td>S</td>\n",
              "    </tr>\n",
              "    <tr>\n",
              "      <th>878</th>\n",
              "      <td>0</td>\n",
              "      <td>3</td>\n",
              "      <td>male</td>\n",
              "      <td>25.140620</td>\n",
              "      <td>0</td>\n",
              "      <td>0</td>\n",
              "      <td>7.8958</td>\n",
              "      <td>S</td>\n",
              "    </tr>\n",
              "    <tr>\n",
              "      <th>884</th>\n",
              "      <td>0</td>\n",
              "      <td>3</td>\n",
              "      <td>male</td>\n",
              "      <td>25.000000</td>\n",
              "      <td>0</td>\n",
              "      <td>0</td>\n",
              "      <td>7.0500</td>\n",
              "      <td>S</td>\n",
              "    </tr>\n",
              "  </tbody>\n",
              "</table>\n",
              "<p>111 rows × 8 columns</p>\n",
              "</div>"
            ],
            "text/plain": [
              "     Survived  Pclass     Sex        Age  SibSp  Parch     Fare Embarked\n",
              "295         0       1    male  38.233441      0      0  27.7208        C\n",
              "555         0       1    male  62.000000      0      0  26.5500        S\n",
              "641         1       1  female  24.000000      0      0  69.3000        C\n",
              "815         0       1    male  38.233441      0      0   0.0000        S\n",
              "133         1       2  female  29.000000      1      0  26.0000        S\n",
              "..        ...     ...     ...        ...    ...    ...      ...      ...\n",
              "863         0       3  female  25.140620      8      2  69.5500        S\n",
              "870         0       3    male  26.000000      0      0   7.8958        S\n",
              "877         0       3    male  19.000000      0      0   7.8958        S\n",
              "878         0       3    male  25.140620      0      0   7.8958        S\n",
              "884         0       3    male  25.000000      0      0   7.0500        S\n",
              "\n",
              "[111 rows x 8 columns]"
            ]
          },
          "metadata": {},
          "execution_count": 499
        }
      ]
    },
    {
      "cell_type": "markdown",
      "source": [
        "there no duplicates in our data"
      ],
      "metadata": {
        "id": "zBwUgEKW5T-s"
      }
    },
    {
      "cell_type": "markdown",
      "metadata": {
        "id": "rF2ABPsHUtbZ"
      },
      "source": [
        "## 5. Exploratory Analysis"
      ]
    },
    {
      "cell_type": "markdown",
      "source": [
        "1.univariate analysis"
      ],
      "metadata": {
        "id": "gjTvTcml5nzm"
      }
    },
    {
      "cell_type": "code",
      "source": [
        "#checking the number of female and male on the boat\n",
        "titanic_df['Sex'].value_counts()"
      ],
      "metadata": {
        "colab": {
          "base_uri": "https://localhost:8080/"
        },
        "id": "kbW7C2Jo5mUg",
        "outputId": "84c57b01-0a73-4287-82c9-a6d81cee6b38"
      },
      "execution_count": 500,
      "outputs": [
        {
          "output_type": "execute_result",
          "data": {
            "text/plain": [
              "male      577\n",
              "female    312\n",
              "Name: Sex, dtype: int64"
            ]
          },
          "metadata": {},
          "execution_count": 500
        }
      ]
    },
    {
      "cell_type": "markdown",
      "source": [
        "the titanic ship had more male than female since water travel is majorly preferred to be suitable for men"
      ],
      "metadata": {
        "id": "A8LgUVie8ct0"
      }
    },
    {
      "cell_type": "code",
      "source": [
        "#we now visualise it using pie chart\n",
        "sns.set(rc = {'figure.figsize':(5,5)})\n",
        "sns.histplot(titanic_df['Sex'],bins = 2)\n",
        "plt.suptitle('count of sex')"
      ],
      "metadata": {
        "colab": {
          "base_uri": "https://localhost:8080/",
          "height": 392
        },
        "id": "hkCRjIdQ9JJi",
        "outputId": "8782d005-f106-4b88-f204-8881ef387bdb"
      },
      "execution_count": 502,
      "outputs": [
        {
          "output_type": "execute_result",
          "data": {
            "text/plain": [
              "Text(0.5, 0.98, 'count of sex')"
            ]
          },
          "metadata": {},
          "execution_count": 502
        },
        {
          "output_type": "display_data",
          "data": {
            "image/png": "[encoded data removed]",
            "text/plain": [
              "<Figure size 360x360 with 1 Axes>"
            ]
          },
          "metadata": {}
        }
      ]
    },
    {
      "cell_type": "markdown",
      "source": [
        "from our histogram we can see there were more male than female in the ship"
      ],
      "metadata": {
        "id": "JJmpdRrN_PR6"
      }
    },
    {
      "cell_type": "code",
      "source": [
        "#getting the number of people who survived the accident\n",
        "titanic_df['Survived'].value_counts()"
      ],
      "metadata": {
        "colab": {
          "base_uri": "https://localhost:8080/"
        },
        "id": "qZAGy5ht_XoC",
        "outputId": "fcba4d14-2ef2-4de0-b359-583f52e47313"
      },
      "execution_count": 424,
      "outputs": [
        {
          "output_type": "execute_result",
          "data": {
            "text/plain": [
              "0    549\n",
              "1    340\n",
              "Name: Survived, dtype: int64"
            ]
          },
          "metadata": {},
          "execution_count": 424
        }
      ]
    },
    {
      "cell_type": "code",
      "source": [
        "w= titanic_df['Survived'].value_counts()\n",
        "print(w)\n",
        "#visualising the count who survived and not using pie chart\n",
        "labels = (0,1)\n",
        "plt.pie(w,labels = labels,startangle=45)\n"
      ],
      "metadata": {
        "colab": {
          "base_uri": "https://localhost:8080/",
          "height": 425
        },
        "id": "ciJCJZUUmDS5",
        "outputId": "28309805-f523-4269-d3cb-15b833d44127"
      },
      "execution_count": 503,
      "outputs": [
        {
          "output_type": "stream",
          "name": "stdout",
          "text": [
            "0    549\n",
            "1    340\n",
            "Name: Survived, dtype: int64\n"
          ]
        },
        {
          "output_type": "execute_result",
          "data": {
            "text/plain": [
              "([<matplotlib.patches.Wedge at 0x7f7414369e90>,\n",
              "  <matplotlib.patches.Wedge at 0x7f7414369a50>],\n",
              " [Text(-1.0061346699846916, 0.4446268388826704, '0'),\n",
              "  Text(1.0061346699846914, -0.444626838882671, '1')])"
            ]
          },
          "metadata": {},
          "execution_count": 503
        },
        {
          "output_type": "display_data",
          "data": {
            "image/png": "[encoded data removed]",
            "text/plain": [
              "<Figure size 360x360 with 1 Axes>"
            ]
          },
          "metadata": {}
        }
      ]
    },
    {
      "cell_type": "markdown",
      "source": [
        "those who did not survived were more compared to those who survived and this is becauses when the accident happened most of the passengers were  reluctant to get into the lifeboat as they thought they were safe in the ship  and the number of lifeboats were not enough to rescue many people thus many people died and from our pie chart we can see that"
      ],
      "metadata": {
        "id": "STRt51DzxgWm"
      }
    },
    {
      "cell_type": "code",
      "metadata": {
        "id": "5nnRToniXGDK",
        "colab": {
          "base_uri": "https://localhost:8080/",
          "height": 462
        },
        "outputId": "b0cbd468-c68c-4994-a119-1ec50926e7dc"
      },
      "source": [
        "# checking the number of people in each class in the ship\n",
        "print(titanic_df['Pclass'].value_counts())\n",
        "#we visualise using histogram\n",
        "sns.histplot(titanic_df['Pclass'],bins = 3)\n",
        "plt.suptitle('counts in Pclass')"
      ],
      "execution_count": 504,
      "outputs": [
        {
          "output_type": "stream",
          "name": "stdout",
          "text": [
            "3    491\n",
            "1    214\n",
            "2    184\n",
            "Name: Pclass, dtype: int64\n"
          ]
        },
        {
          "output_type": "execute_result",
          "data": {
            "text/plain": [
              "Text(0.5, 0.98, 'counts in Pclass')"
            ]
          },
          "metadata": {},
          "execution_count": 504
        },
        {
          "output_type": "display_data",
          "data": {
            "image/png": "[encoded data removed]",
            "text/plain": [
              "<Figure size 360x360 with 1 Axes>"
            ]
          },
          "metadata": {}
        }
      ]
    },
    {
      "cell_type": "markdown",
      "source": [
        "The ship had more people in the third class as it was cheaper than the other classes followed by first then second.the third class majorly consited of immigrants to the USA.first class had rich business people and sportmen.the second had teachers and clergy"
      ],
      "metadata": {
        "id": "KBZaBO0f2MoH"
      }
    },
    {
      "cell_type": "code",
      "metadata": {
        "id": "6UzyQC6kmdBi",
        "colab": {
          "base_uri": "https://localhost:8080/",
          "height": 462
        },
        "outputId": "cab9d406-b6df-426b-e323-d4a0c9e84dab"
      },
      "source": [
        "# finding the number of people who emarked in various place\n",
        "#\n",
        "print(titanic_df['Embarked'].value_counts())\n",
        "#visualising using histplot\n",
        "sns.histplot(titanic_df['Embarked'])\n",
        "plt.suptitle('count by place of embarkement')"
      ],
      "execution_count": 505,
      "outputs": [
        {
          "output_type": "stream",
          "name": "stdout",
          "text": [
            "S    644\n",
            "C    168\n",
            "Q     77\n",
            "Name: Embarked, dtype: int64\n"
          ]
        },
        {
          "output_type": "execute_result",
          "data": {
            "text/plain": [
              "Text(0.5, 0.98, 'count by place of embarkement')"
            ]
          },
          "metadata": {},
          "execution_count": 505
        },
        {
          "output_type": "display_data",
          "data": {
            "image/png": "[encoded data removed]",
            "text/plain": [
              "<Figure size 360x360 with 1 Axes>"
            ]
          },
          "metadata": {}
        }
      ]
    },
    {
      "cell_type": "markdown",
      "source": [
        "C = Cherbourg, Q = Queenstown, S = Southampton\n",
        "many people were from S has it had special relationship with the ship followed by C and finally Q"
      ],
      "metadata": {
        "id": "QfCz7YvhwlU8"
      }
    },
    {
      "cell_type": "code",
      "source": [
        "#finding the number of parents and children in the ship\n",
        "print(titanic_df['Parch'].value_counts())\n",
        "#visualising the number using histplot\n",
        "sns.histplot(titanic_df['Parch'],bins=6)\n"
      ],
      "metadata": {
        "colab": {
          "base_uri": "https://localhost:8080/",
          "height": 495
        },
        "id": "vzjAnrgR_Ssr",
        "outputId": "557395a8-09be-4cbd-c10e-46b3dbed8bad"
      },
      "execution_count": 506,
      "outputs": [
        {
          "output_type": "stream",
          "name": "stdout",
          "text": [
            "0    676\n",
            "1    118\n",
            "2     80\n",
            "5      5\n",
            "3      5\n",
            "4      4\n",
            "6      1\n",
            "Name: Parch, dtype: int64\n"
          ]
        },
        {
          "output_type": "execute_result",
          "data": {
            "text/plain": [
              "<matplotlib.axes._subplots.AxesSubplot at 0x7f741400d190>"
            ]
          },
          "metadata": {},
          "execution_count": 506
        },
        {
          "output_type": "display_data",
          "data": {
            "image/png": "[encoded data removed]",
            "text/plain": [
              "<Figure size 360x360 with 1 Axes>"
            ]
          },
          "metadata": {}
        }
      ]
    },
    {
      "cell_type": "markdown",
      "source": [
        "the highest number of parent child was 0 and this were the children who travelled alone with nannies"
      ],
      "metadata": {
        "id": "eCBBiRvuxjk0"
      }
    },
    {
      "cell_type": "code",
      "source": [
        "#finding the number of siblings and spouse in the ship\n",
        "print(titanic_df['SibSp'].value_counts())\n",
        "#visualising the number using histplot\n",
        "sns.histplot(titanic_df['SibSp'],bins=6)"
      ],
      "metadata": {
        "colab": {
          "base_uri": "https://localhost:8080/",
          "height": 495
        },
        "id": "RCsE0UqWC24x",
        "outputId": "0b1cead4-ec45-471f-c7e7-d5dc336ad60a"
      },
      "execution_count": 507,
      "outputs": [
        {
          "output_type": "stream",
          "name": "stdout",
          "text": [
            "0    606\n",
            "1    209\n",
            "2     28\n",
            "4     18\n",
            "3     16\n",
            "8      7\n",
            "5      5\n",
            "Name: SibSp, dtype: int64\n"
          ]
        },
        {
          "output_type": "execute_result",
          "data": {
            "text/plain": [
              "<matplotlib.axes._subplots.AxesSubplot at 0x7f7415d9a3d0>"
            ]
          },
          "metadata": {},
          "execution_count": 507
        },
        {
          "output_type": "display_data",
          "data": {
            "image/png": "[encoded data removed]",
            "text/plain": [
              "<Figure size 360x360 with 1 Axes>"
            ]
          },
          "metadata": {}
        }
      ]
    },
    {
      "cell_type": "markdown",
      "source": [
        ""
      ],
      "metadata": {
        "id": "sPpTziYfyAGQ"
      }
    },
    {
      "cell_type": "markdown",
      "source": [
        "the highest number of siblings spouse is 0 and this are people who had no siblings or spouse in the ship"
      ],
      "metadata": {
        "id": "CHd0F8SXyAJG"
      }
    },
    {
      "cell_type": "code",
      "source": [
        "#finding the average age of passengers in each class\n",
        "first = titanic_df[titanic_df['Pclass']==1]\n",
        "first.describe()\n",
        "#the average of people in class one is 38 and the average fare is 84\n",
        "second = titanic_df[titanic_df['Pclass']==2]\n",
        "second.describe()\n",
        "#the average of people in class two is 29 and average fare is 20\n",
        "third = titanic_df[titanic_df['Pclass']==3]\n",
        "third.describe()\n",
        "#the average age of people in class three is  25 and average fare is 13"
      ],
      "metadata": {
        "colab": {
          "base_uri": "https://localhost:8080/",
          "height": 300
        },
        "id": "n08aW-Z3DcNO",
        "outputId": "2d1f274b-2454-46fc-d2eb-406052e4b530"
      },
      "execution_count": 430,
      "outputs": [
        {
          "output_type": "execute_result",
          "data": {
            "text/html": [
              "<div>\n",
              "<style scoped>\n",
              "    .dataframe tbody tr th:only-of-type {\n",
              "        vertical-align: middle;\n",
              "    }\n",
              "\n",
              "    .dataframe tbody tr th {\n",
              "        vertical-align: top;\n",
              "    }\n",
              "\n",
              "    .dataframe thead th {\n",
              "        text-align: right;\n",
              "    }\n",
              "</style>\n",
              "<table border=\"1\" class=\"dataframe\">\n",
              "  <thead>\n",
              "    <tr style=\"text-align: right;\">\n",
              "      <th></th>\n",
              "      <th>Survived</th>\n",
              "      <th>Pclass</th>\n",
              "      <th>Age</th>\n",
              "      <th>SibSp</th>\n",
              "      <th>Parch</th>\n",
              "      <th>Fare</th>\n",
              "    </tr>\n",
              "  </thead>\n",
              "  <tbody>\n",
              "    <tr>\n",
              "      <th>count</th>\n",
              "      <td>491.000000</td>\n",
              "      <td>491.0</td>\n",
              "      <td>491.000000</td>\n",
              "      <td>491.000000</td>\n",
              "      <td>491.000000</td>\n",
              "      <td>491.000000</td>\n",
              "    </tr>\n",
              "    <tr>\n",
              "      <th>mean</th>\n",
              "      <td>0.242363</td>\n",
              "      <td>3.0</td>\n",
              "      <td>25.140620</td>\n",
              "      <td>0.615071</td>\n",
              "      <td>0.393075</td>\n",
              "      <td>13.675550</td>\n",
              "    </tr>\n",
              "    <tr>\n",
              "      <th>std</th>\n",
              "      <td>0.428949</td>\n",
              "      <td>0.0</td>\n",
              "      <td>10.620713</td>\n",
              "      <td>1.374883</td>\n",
              "      <td>0.888861</td>\n",
              "      <td>11.778142</td>\n",
              "    </tr>\n",
              "    <tr>\n",
              "      <th>min</th>\n",
              "      <td>0.000000</td>\n",
              "      <td>3.0</td>\n",
              "      <td>0.420000</td>\n",
              "      <td>0.000000</td>\n",
              "      <td>0.000000</td>\n",
              "      <td>0.000000</td>\n",
              "    </tr>\n",
              "    <tr>\n",
              "      <th>25%</th>\n",
              "      <td>0.000000</td>\n",
              "      <td>3.0</td>\n",
              "      <td>20.250000</td>\n",
              "      <td>0.000000</td>\n",
              "      <td>0.000000</td>\n",
              "      <td>7.750000</td>\n",
              "    </tr>\n",
              "    <tr>\n",
              "      <th>50%</th>\n",
              "      <td>0.000000</td>\n",
              "      <td>3.0</td>\n",
              "      <td>25.140620</td>\n",
              "      <td>0.000000</td>\n",
              "      <td>0.000000</td>\n",
              "      <td>8.050000</td>\n",
              "    </tr>\n",
              "    <tr>\n",
              "      <th>75%</th>\n",
              "      <td>0.000000</td>\n",
              "      <td>3.0</td>\n",
              "      <td>29.000000</td>\n",
              "      <td>1.000000</td>\n",
              "      <td>0.000000</td>\n",
              "      <td>15.500000</td>\n",
              "    </tr>\n",
              "    <tr>\n",
              "      <th>max</th>\n",
              "      <td>1.000000</td>\n",
              "      <td>3.0</td>\n",
              "      <td>74.000000</td>\n",
              "      <td>8.000000</td>\n",
              "      <td>6.000000</td>\n",
              "      <td>69.550000</td>\n",
              "    </tr>\n",
              "  </tbody>\n",
              "</table>\n",
              "</div>"
            ],
            "text/plain": [
              "         Survived  Pclass         Age       SibSp       Parch        Fare\n",
              "count  491.000000   491.0  491.000000  491.000000  491.000000  491.000000\n",
              "mean     0.242363     3.0   25.140620    0.615071    0.393075   13.675550\n",
              "std      0.428949     0.0   10.620713    1.374883    0.888861   11.778142\n",
              "min      0.000000     3.0    0.420000    0.000000    0.000000    0.000000\n",
              "25%      0.000000     3.0   20.250000    0.000000    0.000000    7.750000\n",
              "50%      0.000000     3.0   25.140620    0.000000    0.000000    8.050000\n",
              "75%      0.000000     3.0   29.000000    1.000000    0.000000   15.500000\n",
              "max      1.000000     3.0   74.000000    8.000000    6.000000   69.550000"
            ]
          },
          "metadata": {},
          "execution_count": 430
        }
      ]
    },
    {
      "cell_type": "markdown",
      "source": [
        "the average age in class one is 38 hence more older people were in this class and the mean fare was 84 which was expensive compared to the rest.the second class had a mean age 29 and fare was 20.the third class had a mean age of 25 and fare of 13 meaning the younger people were in this class"
      ],
      "metadata": {
        "id": "ejKIpF9wydR7"
      }
    },
    {
      "cell_type": "code",
      "source": [
        "#finding kurtosis\n",
        "titanic_df.kurt()"
      ],
      "metadata": {
        "colab": {
          "base_uri": "https://localhost:8080/"
        },
        "id": "8IYzd77KF_6L",
        "outputId": "ab45c10f-035d-4ff2-dd94-4724cb8a3bf1"
      },
      "execution_count": 431,
      "outputs": [
        {
          "output_type": "execute_result",
          "data": {
            "text/plain": [
              "Survived    -1.769179\n",
              "Pclass      -1.269437\n",
              "Age          0.798427\n",
              "SibSp       17.838972\n",
              "Parch        9.750592\n",
              "Fare        33.508477\n",
              "dtype: float64"
            ]
          },
          "metadata": {},
          "execution_count": 431
        }
      ]
    },
    {
      "cell_type": "markdown",
      "source": [
        "sibsp,parch and fare are leptokurtic  as they have high kurtosis\n",
        "survived and pclass are platykurtic as it have low kurtosis"
      ],
      "metadata": {
        "id": "w6m55-wCzZ73"
      }
    },
    {
      "cell_type": "code",
      "source": [
        "#finding skewness\n",
        "titanic_df.skew()"
      ],
      "metadata": {
        "colab": {
          "base_uri": "https://localhost:8080/"
        },
        "id": "0yjIPoVNGHKd",
        "outputId": "c72d36c1-db53-466b-e938-56f2b9fa69f6"
      },
      "execution_count": 432,
      "outputs": [
        {
          "output_type": "execute_result",
          "data": {
            "text/plain": [
              "Survived    0.484568\n",
              "Pclass     -0.636998\n",
              "Age         0.507710\n",
              "SibSp       3.691058\n",
              "Parch       2.745160\n",
              "Fare        4.801440\n",
              "dtype: float64"
            ]
          },
          "metadata": {},
          "execution_count": 432
        }
      ]
    },
    {
      "cell_type": "markdown",
      "source": [
        "the sibsp and fare are higly skwed since they have skwenesss greater than 2"
      ],
      "metadata": {
        "id": "MnVpYIlp0feg"
      }
    },
    {
      "cell_type": "markdown",
      "source": [
        "2.Bivariate Analysis"
      ],
      "metadata": {
        "id": "q2CT7Bx8GNlq"
      }
    },
    {
      "cell_type": "code",
      "source": [
        "#comparing the survival of male and female\n",
        "sns.catplot(x='Sex',hue='Survived',data=titanic_df,kind='count',aspect=1.5)\n",
        "plt.title('survival distribution with sex',weight='bold')"
      ],
      "metadata": {
        "colab": {
          "base_uri": "https://localhost:8080/",
          "height": 398
        },
        "id": "4oCAPhvSGR_a",
        "outputId": "0678f003-e4ae-4d4c-af8f-13fd6ccbcb69"
      },
      "execution_count": 508,
      "outputs": [
        {
          "output_type": "execute_result",
          "data": {
            "text/plain": [
              "Text(0.5, 1.0, 'survival distribution with sex')"
            ]
          },
          "metadata": {},
          "execution_count": 508
        },
        {
          "output_type": "display_data",
          "data": {
            "image/png": "[encoded data removed]",
            "text/plain": [
              "<Figure size 601.55x360 with 1 Axes>"
            ]
          },
          "metadata": {}
        }
      ]
    },
    {
      "cell_type": "markdown",
      "source": [
        "the number of female who survived were more than the male since during the rescue female were rescued first "
      ],
      "metadata": {
        "id": "L9y4TP8tKQCI"
      }
    },
    {
      "cell_type": "code",
      "source": [
        "#comparing the survival of different classes in the  ship\n",
        "sns.catplot(x='Pclass',hue='Survived',data=titanic_df,kind='count',aspect=1.5)\n",
        "plt.title('survival distribution with class',weight='bold')"
      ],
      "metadata": {
        "colab": {
          "base_uri": "https://localhost:8080/",
          "height": 398
        },
        "id": "jPpGewseLN4t",
        "outputId": "fbe1ff9b-3c2e-4fb6-ac96-e892de94ffca"
      },
      "execution_count": 434,
      "outputs": [
        {
          "output_type": "execute_result",
          "data": {
            "text/plain": [
              "Text(0.5, 1.0, 'survival distribution with class')"
            ]
          },
          "metadata": {},
          "execution_count": 434
        },
        {
          "output_type": "display_data",
          "data": {
            "image/png": "[encoded data removed]",
            "text/plain": [
              "<Figure size 601.55x360 with 1 Axes>"
            ]
          },
          "metadata": {}
        }
      ]
    },
    {
      "cell_type": "markdown",
      "source": [
        "more people in first class survived followed by second an finally third and this because the deck for lifeboat were located in the first and second deck thus taking time for the people in the third class to reach to the life boat and be saved"
      ],
      "metadata": {
        "id": "sjMHukPeL-O8"
      }
    },
    {
      "cell_type": "code",
      "source": [
        "#comparing the classes and the place of emarkmen\n",
        "sns.catplot(x='Embarked',hue='Survived',data=titanic_df,kind='count',aspect=1.5)\n",
        "plt.title('survival distribution with place of embarked',weight='bold')"
      ],
      "metadata": {
        "colab": {
          "base_uri": "https://localhost:8080/",
          "height": 398
        },
        "id": "UaduD_5yMrDe",
        "outputId": "ccbe4e5f-339a-4d4d-e0e1-381614c9a138"
      },
      "execution_count": 435,
      "outputs": [
        {
          "output_type": "execute_result",
          "data": {
            "text/plain": [
              "Text(0.5, 1.0, 'survival distribution with place of embarked')"
            ]
          },
          "metadata": {},
          "execution_count": 435
        },
        {
          "output_type": "display_data",
          "data": {
            "image/png": "[encoded data removed]",
            "text/plain": [
              "<Figure size 601.55x360 with 1 Axes>"
            ]
          },
          "metadata": {}
        }
      ]
    },
    {
      "cell_type": "markdown",
      "source": [
        "C = Cherbourg, Q = Queenstown, S = Southampton\n",
        "s had more people who died and survived followed by Q and finally C"
      ],
      "metadata": {
        "id": "pE4-hx5L1mhu"
      }
    },
    {
      "cell_type": "code",
      "source": [
        "#comparing the age and survival\n",
        "sns.boxplot(y='Age',x='Survived',data = titanic_df)"
      ],
      "metadata": {
        "colab": {
          "base_uri": "https://localhost:8080/",
          "height": 356
        },
        "id": "C_tyQJOEbwaT",
        "outputId": "08038f65-e73e-486c-c455-f2ff2faef53d"
      },
      "execution_count": 509,
      "outputs": [
        {
          "output_type": "execute_result",
          "data": {
            "text/plain": [
              "<matplotlib.axes._subplots.AxesSubplot at 0x7f7413f6ead0>"
            ]
          },
          "metadata": {},
          "execution_count": 509
        },
        {
          "output_type": "display_data",
          "data": {
            "image/png": "[encoded data removed]",
            "text/plain": [
              "<Figure size 360x360 with 1 Axes>"
            ]
          },
          "metadata": {}
        }
      ]
    },
    {
      "cell_type": "markdown",
      "source": [
        "the average mean age of those whio survived ,28 was slightly higher than those who did not,25"
      ],
      "metadata": {
        "id": "IQeeooQU4FWa"
      }
    },
    {
      "cell_type": "code",
      "source": [
        "#converting the categorical variables into  numeric\n",
        "X= titanic_df[['Sex','Embarked']]\n",
        "X_1 = pd.get_dummies(X,drop_first=False)\n",
        "titanic_df.drop(['Sex','Embarked'],axis=1,inplace=True)\n",
        "data = pd.concat([X_1,titanic_df],axis = 1)\n",
        "data.head()\n"
      ],
      "metadata": {
        "colab": {
          "base_uri": "https://localhost:8080/",
          "height": 206
        },
        "id": "WRY3gE583suW",
        "outputId": "9ba2e5ff-8e30-4d09-c5ac-3d87447550ea"
      },
      "execution_count": 438,
      "outputs": [
        {
          "output_type": "execute_result",
          "data": {
            "text/html": [
              "<div>\n",
              "<style scoped>\n",
              "    .dataframe tbody tr th:only-of-type {\n",
              "        vertical-align: middle;\n",
              "    }\n",
              "\n",
              "    .dataframe tbody tr th {\n",
              "        vertical-align: top;\n",
              "    }\n",
              "\n",
              "    .dataframe thead th {\n",
              "        text-align: right;\n",
              "    }\n",
              "</style>\n",
              "<table border=\"1\" class=\"dataframe\">\n",
              "  <thead>\n",
              "    <tr style=\"text-align: right;\">\n",
              "      <th></th>\n",
              "      <th>Sex_female</th>\n",
              "      <th>Sex_male</th>\n",
              "      <th>Embarked_C</th>\n",
              "      <th>Embarked_Q</th>\n",
              "      <th>Embarked_S</th>\n",
              "      <th>Survived</th>\n",
              "      <th>Pclass</th>\n",
              "      <th>Age</th>\n",
              "      <th>SibSp</th>\n",
              "      <th>Parch</th>\n",
              "      <th>Fare</th>\n",
              "    </tr>\n",
              "  </thead>\n",
              "  <tbody>\n",
              "    <tr>\n",
              "      <th>1</th>\n",
              "      <td>1</td>\n",
              "      <td>0</td>\n",
              "      <td>1</td>\n",
              "      <td>0</td>\n",
              "      <td>0</td>\n",
              "      <td>1</td>\n",
              "      <td>1</td>\n",
              "      <td>38.0</td>\n",
              "      <td>1</td>\n",
              "      <td>0</td>\n",
              "      <td>71.2833</td>\n",
              "    </tr>\n",
              "    <tr>\n",
              "      <th>3</th>\n",
              "      <td>1</td>\n",
              "      <td>0</td>\n",
              "      <td>0</td>\n",
              "      <td>0</td>\n",
              "      <td>1</td>\n",
              "      <td>1</td>\n",
              "      <td>1</td>\n",
              "      <td>35.0</td>\n",
              "      <td>1</td>\n",
              "      <td>0</td>\n",
              "      <td>53.1000</td>\n",
              "    </tr>\n",
              "    <tr>\n",
              "      <th>6</th>\n",
              "      <td>0</td>\n",
              "      <td>1</td>\n",
              "      <td>0</td>\n",
              "      <td>0</td>\n",
              "      <td>1</td>\n",
              "      <td>0</td>\n",
              "      <td>1</td>\n",
              "      <td>54.0</td>\n",
              "      <td>0</td>\n",
              "      <td>0</td>\n",
              "      <td>51.8625</td>\n",
              "    </tr>\n",
              "    <tr>\n",
              "      <th>11</th>\n",
              "      <td>1</td>\n",
              "      <td>0</td>\n",
              "      <td>0</td>\n",
              "      <td>0</td>\n",
              "      <td>1</td>\n",
              "      <td>1</td>\n",
              "      <td>1</td>\n",
              "      <td>58.0</td>\n",
              "      <td>0</td>\n",
              "      <td>0</td>\n",
              "      <td>26.5500</td>\n",
              "    </tr>\n",
              "    <tr>\n",
              "      <th>23</th>\n",
              "      <td>0</td>\n",
              "      <td>1</td>\n",
              "      <td>0</td>\n",
              "      <td>0</td>\n",
              "      <td>1</td>\n",
              "      <td>1</td>\n",
              "      <td>1</td>\n",
              "      <td>28.0</td>\n",
              "      <td>0</td>\n",
              "      <td>0</td>\n",
              "      <td>35.5000</td>\n",
              "    </tr>\n",
              "  </tbody>\n",
              "</table>\n",
              "</div>"
            ],
            "text/plain": [
              "    Sex_female  Sex_male  Embarked_C  Embarked_Q  ...   Age  SibSp  Parch     Fare\n",
              "1            1         0           1           0  ...  38.0      1      0  71.2833\n",
              "3            1         0           0           0  ...  35.0      1      0  53.1000\n",
              "6            0         1           0           0  ...  54.0      0      0  51.8625\n",
              "11           1         0           0           0  ...  58.0      0      0  26.5500\n",
              "23           0         1           0           0  ...  28.0      0      0  35.5000\n",
              "\n",
              "[5 rows x 11 columns]"
            ]
          },
          "metadata": {},
          "execution_count": 438
        }
      ]
    },
    {
      "cell_type": "code",
      "source": [
        "#finding correlation among variables\n",
        "corr = round(data.corr(),2)\n",
        "corr\n",
        "#visualising the correlation matrix using heatmap\n",
        "sns.set(rc = {'figure.figsize':(20,10)})\n",
        "sns.heatmap(corr,annot=True)"
      ],
      "metadata": {
        "colab": {
          "base_uri": "https://localhost:8080/",
          "height": 528
        },
        "id": "HSBaRiVb6MzL",
        "outputId": "ed50ac00-e29a-475a-fbae-8fd4c719e10d"
      },
      "execution_count": 439,
      "outputs": [
        {
          "output_type": "execute_result",
          "data": {
            "text/plain": [
              "<matplotlib.axes._subplots.AxesSubplot at 0x7f7414635350>"
            ]
          },
          "metadata": {},
          "execution_count": 439
        },
        {
          "output_type": "display_data",
          "data": {
            "image/png": "[encoded data removed]",
            "text/plain": [
              "<Figure size 1440x720 with 2 Axes>"
            ]
          },
          "metadata": {}
        }
      ]
    },
    {
      "cell_type": "markdown",
      "source": [
        "the sex variable had the highest correlation with the survived variable of 0.54 which is moderate positive correlation.the embarked_Q has no correlation with the independent variable"
      ],
      "metadata": {
        "id": "feTFolvU4s4q"
      }
    },
    {
      "cell_type": "markdown",
      "metadata": {
        "id": "vTbdjSrhVIiT"
      },
      "source": [
        "## 6. Implementing the Solution"
      ]
    },
    {
      "cell_type": "markdown",
      "source": [
        "Building KNN model"
      ],
      "metadata": {
        "id": "xHH2HtCU5fDL"
      }
    },
    {
      "cell_type": "markdown",
      "source": [
        "a.spiliting the data into 80-20"
      ],
      "metadata": {
        "id": "d7dAmPOGLKDW"
      }
    },
    {
      "cell_type": "code",
      "metadata": {
        "id": "PJLZaRzJXJ3w"
      },
      "source": [
        "# spliting data into label and features\n",
        "# \n",
        "X = data.drop(['Survived'],axis = 1)\n",
        "y = data['Survived']\n",
        "#we split data into 20% test \n",
        "X_train,X_test,y_train,y_test = train_test_split(X,y,test_size=0.2,random_state=0)"
      ],
      "execution_count": 463,
      "outputs": []
    },
    {
      "cell_type": "code",
      "source": [
        "#fitting our model into the data \n",
        "KNN = KNeighborsClassifier()\n",
        "KNN.fit(X_train,y_train)\n",
        "#making prediction using the fitted model\n",
        "y_pred = KNN.predict(X_test)"
      ],
      "metadata": {
        "id": "Hq6o2X9PCmuC"
      },
      "execution_count": 460,
      "outputs": []
    },
    {
      "cell_type": "code",
      "source": [
        "#assessing the performance of our model\n",
        "print('accuracy of model :',metrics.accuracy_score(y_test,y_pred))\n",
        "print('confusion_matrix of model:',metrics.confusion_matrix(y_test,y_pred))"
      ],
      "metadata": {
        "colab": {
          "base_uri": "https://localhost:8080/"
        },
        "id": "WE4EDHVUDIX1",
        "outputId": "968c5f55-4de0-4878-cf0e-a5b8543f86cf"
      },
      "execution_count": 461,
      "outputs": [
        {
          "output_type": "stream",
          "name": "stdout",
          "text": [
            "accuracy of model : 0.702247191011236\n",
            "confusion_matrix of model: [[91 23]\n",
            " [30 34]]\n"
          ]
        }
      ]
    },
    {
      "cell_type": "markdown",
      "source": [
        "our model has an accuracy of 70% which is not bad and 125 out of 178 were correctly classified"
      ],
      "metadata": {
        "id": "F3ZcIaup5oZR"
      }
    },
    {
      "cell_type": "markdown",
      "source": [
        "b.spilliting data into 70-30"
      ],
      "metadata": {
        "id": "cik3Q_8ELM93"
      }
    },
    {
      "cell_type": "code",
      "source": [
        "# spliting data into label and features\n",
        "# \n",
        "X = data.drop(['Survived'],axis = 1)\n",
        "y = data['Survived']\n",
        "#we split data into 30% test \n",
        "X_train,X_test,y_train,y_test = train_test_split(X,y,test_size=0.3,random_state=0)"
      ],
      "metadata": {
        "id": "Om9rNPGpLTQw"
      },
      "execution_count": 456,
      "outputs": []
    },
    {
      "cell_type": "code",
      "source": [
        "#fitting our model into the data \n",
        "KNN = KNeighborsClassifier()\n",
        "KNN.fit(X_train,y_train)\n",
        "#making prediction using the fitted model\n",
        "y_pred = KNN.predict(X_test)"
      ],
      "metadata": {
        "id": "OuarP9dwLaX-"
      },
      "execution_count": 457,
      "outputs": []
    },
    {
      "cell_type": "code",
      "source": [
        "#assessing the performance of our model\n",
        "print('accuracy of model :',metrics.accuracy_score(y_test,y_pred))\n",
        "print('confusion_matrix of model:',metrics.confusion_matrix(y_test,y_pred))"
      ],
      "metadata": {
        "colab": {
          "base_uri": "https://localhost:8080/"
        },
        "id": "jPbsZ0yRLhAa",
        "outputId": "467b7b7c-c622-46cd-f9bd-b52ce631fdb9"
      },
      "execution_count": 458,
      "outputs": [
        {
          "output_type": "stream",
          "name": "stdout",
          "text": [
            "accuracy of model : 0.6853932584269663\n",
            "confusion_matrix of model: [[132  33]\n",
            " [ 51  51]]\n"
          ]
        }
      ]
    },
    {
      "cell_type": "markdown",
      "source": [
        "our model has accuracy of 68% which is slightly lower than the 80-20 model and 183 out of267 were correctly classified"
      ],
      "metadata": {
        "id": "lLhgDeRn6E7v"
      }
    },
    {
      "cell_type": "markdown",
      "source": [
        "c.spilliting into 60-40"
      ],
      "metadata": {
        "id": "KCvPdDB1LvNk"
      }
    },
    {
      "cell_type": "code",
      "source": [
        "# spliting data into label and features\n",
        "# \n",
        "X = data.drop(['Survived'],axis = 1)\n",
        "y = data['Survived']\n",
        "#we split data into 40% test \n",
        "X_train,X_test,y_train,y_test = train_test_split(X,y,test_size=0.4,random_state=0)"
      ],
      "metadata": {
        "id": "wIYdBn3VLyG1"
      },
      "execution_count": 450,
      "outputs": []
    },
    {
      "cell_type": "code",
      "source": [
        "#fitting our model into the data \n",
        "KNN = KNeighborsClassifier()\n",
        "KNN.fit(X_train,y_train)\n",
        "#making prediction using the fitted model\n",
        "y_pred = KNN.predict(X_test)"
      ],
      "metadata": {
        "id": "N7f1pscBLyJw"
      },
      "execution_count": 451,
      "outputs": []
    },
    {
      "cell_type": "code",
      "source": [
        "#assessing the performance of our model\n",
        "print('accuracy of model :',metrics.accuracy_score(y_test,y_pred))\n",
        "print('confusion_matrix of model:',metrics.confusion_matrix(y_test,y_pred))"
      ],
      "metadata": {
        "colab": {
          "base_uri": "https://localhost:8080/"
        },
        "id": "-oTn1oVALzDU",
        "outputId": "a3a87341-a3ca-4bba-ff13-6c0aa8ef6188"
      },
      "execution_count": 452,
      "outputs": [
        {
          "output_type": "stream",
          "name": "stdout",
          "text": [
            "accuracy of model : 0.6797752808988764\n",
            "confusion_matrix of model: [[179  48]\n",
            " [ 66  63]]\n"
          ]
        }
      ]
    },
    {
      "cell_type": "markdown",
      "source": [
        "our model has an accuracy of 67% which is the list of the 3 and 242 out of 356 were correctly classified.\n",
        "to optimize our model were are using the 80-20 split since it had higher accuracy"
      ],
      "metadata": {
        "id": "GiHQhkbp6xR1"
      }
    },
    {
      "cell_type": "markdown",
      "source": [
        "optimizing our model"
      ],
      "metadata": {
        "id": "ehYMoaNXNMSh"
      }
    },
    {
      "cell_type": "code",
      "source": [
        "#scaling our data to improve it performance\n",
        "scaler = StandardScaler()\n",
        "scaler.fit(X_train)\n",
        "X_test = scaler.transform(X_test)\n",
        "X_train= scaler.transform(X_train)"
      ],
      "metadata": {
        "id": "SZyrcbHtNPEj"
      },
      "execution_count": 464,
      "outputs": []
    },
    {
      "cell_type": "code",
      "source": [
        "#using gridsearch to tune the model in orderto get the best parameters\n",
        "#using a 10-fold cross validation\n",
        "params = {'n_neighbors':np.linspace(1,20,5,dtype=int),'weights':('uniform', 'distance'),\n",
        "          'p' :np.linspace(1,10,2,dtype=int),'metric':('minkowski','manhattan', 'Euclidean')}\n",
        "#searching for the best parameters for our model\n",
        "search=GridSearchCV(estimator=KNN,param_grid=params,scoring='accuracy',n_jobs=1,refit=True,cv=10)"
      ],
      "metadata": {
        "id": "5b2WuUckOR8k"
      },
      "execution_count": 474,
      "outputs": []
    },
    {
      "cell_type": "code",
      "source": [
        "#obtaining the best parameters for the model\n",
        "search.fit(X_train,y_train)\n",
        "print(search.best_params_)\n",
        "abs(search.best_score_)\n",
        "#the parameters best for our model is metric': 'minkowski', 'n_neighbors': 5, 'p': 1, 'weights': 'uniform'\n",
        "#accuracy is 80%"
      ],
      "metadata": {
        "colab": {
          "base_uri": "https://localhost:8080/"
        },
        "id": "4lioBQZCRf1L",
        "outputId": "214f5636-344d-4a89-c502-745475644a97"
      },
      "execution_count": 475,
      "outputs": [
        {
          "output_type": "stream",
          "name": "stdout",
          "text": [
            "{'metric': 'minkowski', 'n_neighbors': 5, 'p': 1, 'weights': 'uniform'}\n"
          ]
        },
        {
          "output_type": "execute_result",
          "data": {
            "text/plain": [
              "0.8072574334898277"
            ]
          },
          "metadata": {},
          "execution_count": 475
        }
      ]
    },
    {
      "cell_type": "code",
      "source": [
        "#fitting the model using parameters\n",
        "KNN = KNeighborsClassifier(n_neighbors=5,weights='uniform',p=1,metric='minkowski')\n",
        "KNN.fit(X_train,y_train)\n",
        "#making prediction\n",
        "y_pred = KNN.predict(X_test)"
      ],
      "metadata": {
        "id": "hUkgHAiVRx8q"
      },
      "execution_count": 478,
      "outputs": []
    },
    {
      "cell_type": "code",
      "source": [
        "#assessing the performance of our model\n",
        "print('accuracy of model :',metrics.accuracy_score(y_test,y_pred))\n",
        "print('confusion_matrix of model:',metrics.confusion_matrix(y_test,y_pred))\n",
        "#tg"
      ],
      "metadata": {
        "colab": {
          "base_uri": "https://localhost:8080/"
        },
        "id": "jWnHSP1KSxzD",
        "outputId": "879f718b-f7df-44cf-b34d-429158858d03"
      },
      "execution_count": 479,
      "outputs": [
        {
          "output_type": "stream",
          "name": "stdout",
          "text": [
            "accuracy of model : 0.8426966292134831\n",
            "confusion_matrix of model: [[101  13]\n",
            " [ 15  49]]\n"
          ]
        }
      ]
    },
    {
      "cell_type": "markdown",
      "source": [
        "after optimizing our model by scaling the features and using gridsearch to get the best parameters the model accuracy improved from 70% to 84%"
      ],
      "metadata": {
        "id": "Xyt6RQvc7xf8"
      }
    },
    {
      "cell_type": "markdown",
      "metadata": {
        "id": "lQ2G4ZPDVOXE"
      },
      "source": [
        "## 7. Challenging the solution"
      ]
    },
    {
      "cell_type": "markdown",
      "metadata": {
        "id": "jWVGKGuiYMWg"
      },
      "source": [
        "after getting the accuracy using KNN we challenged the solution using hyperparameter tuning and scaling to improve performance\n",
        "\n",
        "\n",
        "\n",
        "\n"
      ]
    },
    {
      "cell_type": "markdown",
      "metadata": {
        "id": "xrmHVMVsVS--"
      },
      "source": [
        "## 8. Follow up questions"
      ]
    },
    {
      "cell_type": "markdown",
      "metadata": {
        "id": "HPQviDmNtta8"
      },
      "source": [
        "### a). Did we have the right data?"
      ]
    },
    {
      "cell_type": "markdown",
      "source": [
        "Yes we had the right data to answer our question"
      ],
      "metadata": {
        "id": "vpL-N-9O8hpB"
      }
    },
    {
      "cell_type": "markdown",
      "metadata": {
        "id": "qjFHK1CKty7o"
      },
      "source": [
        "### b). Do we need other data to answer our question?"
      ]
    },
    {
      "cell_type": "markdown",
      "source": [
        "No all the answers for the questions we had were in the data\n",
        "\n",
        "a.which gender had the highest survival\n",
        "\n",
        "b,which class had the highest survival\n",
        "\n",
        "c.building a model for prediction"
      ],
      "metadata": {
        "id": "xL8rPtU88qH5"
      }
    },
    {
      "cell_type": "markdown",
      "metadata": {
        "id": "HSsicSdvt4Zs"
      },
      "source": [
        "### c). Did we have the right question?"
      ]
    },
    {
      "cell_type": "markdown",
      "source": [
        "yes we had the right questions of coming up with a model that help predict survival of a person in a ship and this can be used be marine liners to know where to focus and improve in order to reduce fatalities in occurances of accidents"
      ],
      "metadata": {
        "id": "cyagFIiu9OVD"
      }
    },
    {
      "cell_type": "markdown",
      "source": [
        "## 9.Conclusion and Recommendation"
      ],
      "metadata": {
        "id": "5unkXgbi-Siu"
      }
    },
    {
      "cell_type": "markdown",
      "source": [
        "Conclusion\n",
        "\n",
        "we build a model using KNN used to predict the survival in the titanic accident and it had accuracy of 70% and after some model evaluation and optimization its accuracy improved to 84%"
      ],
      "metadata": {
        "id": "CdiW9R6M-ceZ"
      }
    },
    {
      "cell_type": "markdown",
      "source": [
        "Recommendation\n",
        "\n",
        "we recommend that to further improve the model performance of the model there is need to check for multicollinearity and removing the highly correlated features as it may improve its accuracy."
      ],
      "metadata": {
        "id": "EclBJyx0-2kC"
      }
    }
  ]
}